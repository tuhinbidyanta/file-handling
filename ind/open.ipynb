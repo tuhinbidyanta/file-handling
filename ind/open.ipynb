{
 "cells": [
  {
   "cell_type": "code",
   "execution_count": 7,
   "metadata": {},
   "outputs": [
    {
     "data": {
      "text/plain": [
       "(0, 7)"
      ]
     },
     "execution_count": 7,
     "metadata": {},
     "output_type": "execute_result"
    }
   ],
   "source": [
    "import pandas as pd\n",
    "import re\n",
    "\n",
    "# Define the column names (adjust according to your file's structure)\n",
    "columns = ['Latitude', 'Longitude', 'Value1', 'Value2', 'Value3', 'Value4', 'Value5']\n",
    "\n",
    "# Read the .ind file\n",
    "data = []\n",
    "with open('indiana.ind', 'r', encoding='latin1') as file:\n",
    "    for line in file:\n",
    "        # Extract numeric values from the line using regular expressions\n",
    "        values = re.findall(r\"[-+]?\\d*\\.\\d+|\\d+\", line)\n",
    "        # Convert the values to appropriate types (e.g., float)\n",
    "        values = [float(value) for value in values]\n",
    "        # Ensure the line has the correct number of values\n",
    "        if len(values) == len(columns):\n",
    "            data.append(values)\n",
    "\n",
    "# Convert the data into a DataFrame\n",
    "df = pd.DataFrame(data, columns=columns)\n",
    "\n",
    "# Display the DataFrame\n",
    "df.shape"
   ]
  }
 ],
 "metadata": {
  "kernelspec": {
   "display_name": "Python 3",
   "language": "python",
   "name": "python3"
  },
  "language_info": {
   "codemirror_mode": {
    "name": "ipython",
    "version": 3
   },
   "file_extension": ".py",
   "mimetype": "text/x-python",
   "name": "python",
   "nbconvert_exporter": "python",
   "pygments_lexer": "ipython3",
   "version": "3.12.5"
  }
 },
 "nbformat": 4,
 "nbformat_minor": 2
}
